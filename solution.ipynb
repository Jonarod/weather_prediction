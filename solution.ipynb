{
 "cells": [
  {
   "cell_type": "code",
   "execution_count": 27,
   "metadata": {},
   "outputs": [],
   "source": [
    "# Importing libs\n",
    "import matplotlib.pyplot as plt\n",
    "%matplotlib inline\n",
    "import numpy as np\n",
    "import pandas as pd\n",
    "from pandas import Series, DataFrame, concat\n",
    "import glob\n",
    "import re\n",
    "from datetime import datetime\n",
    "from statsmodels.tsa.ar_model import AR\n",
    "from sklearn.metrics import mean_squared_error\n",
    "from pandas.tools.plotting import lag_plot"
   ]
  },
  {
   "cell_type": "code",
   "execution_count": 4,
   "metadata": {},
   "outputs": [
    {
     "data": {
      "text/html": [
       "<div>\n",
       "<style scoped>\n",
       "    .dataframe tbody tr th:only-of-type {\n",
       "        vertical-align: middle;\n",
       "    }\n",
       "\n",
       "    .dataframe tbody tr th {\n",
       "        vertical-align: top;\n",
       "    }\n",
       "\n",
       "    .dataframe thead th {\n",
       "        text-align: right;\n",
       "    }\n",
       "</style>\n",
       "<table border=\"1\" class=\"dataframe\">\n",
       "  <thead>\n",
       "    <tr style=\"text-align: right;\">\n",
       "      <th></th>\n",
       "      <th>Unnamed: 0</th>\n",
       "      <th>T_MIN</th>\n",
       "      <th>T_MAX</th>\n",
       "      <th>HAUTEUR_PRECIPITATION</th>\n",
       "      <th>DUREE_ENSOLEILLEMENT</th>\n",
       "    </tr>\n",
       "  </thead>\n",
       "  <tbody>\n",
       "    <tr>\n",
       "      <th>0</th>\n",
       "      <td>1</td>\n",
       "      <td>5.0 C</td>\n",
       "      <td>13.7 C</td>\n",
       "      <td>0.0 mm</td>\n",
       "      <td>4.0 h</td>\n",
       "    </tr>\n",
       "    <tr>\n",
       "      <th>1</th>\n",
       "      <td>2</td>\n",
       "      <td>7.2 C</td>\n",
       "      <td>14.2 C</td>\n",
       "      <td>0.0 mm</td>\n",
       "      <td>0.8 h</td>\n",
       "    </tr>\n",
       "    <tr>\n",
       "      <th>2</th>\n",
       "      <td>3</td>\n",
       "      <td>10.9 C</td>\n",
       "      <td>17.0 C</td>\n",
       "      <td>0.0 mm</td>\n",
       "      <td>2.6 h</td>\n",
       "    </tr>\n",
       "    <tr>\n",
       "      <th>3</th>\n",
       "      <td>4</td>\n",
       "      <td>9.2 C</td>\n",
       "      <td>15.8 C</td>\n",
       "      <td>3.6 mm</td>\n",
       "      <td>0.7 h</td>\n",
       "    </tr>\n",
       "    <tr>\n",
       "      <th>4</th>\n",
       "      <td>5</td>\n",
       "      <td>6.7 C</td>\n",
       "      <td>10.6 C</td>\n",
       "      <td>0.0 mm</td>\n",
       "      <td>5.5 h</td>\n",
       "    </tr>\n",
       "  </tbody>\n",
       "</table>\n",
       "</div>"
      ],
      "text/plain": [
       "   Unnamed: 0   T_MIN   T_MAX HAUTEUR_PRECIPITATION DUREE_ENSOLEILLEMENT\n",
       "0           1   5.0 C  13.7 C                0.0 mm                4.0 h\n",
       "1           2   7.2 C  14.2 C                0.0 mm                0.8 h\n",
       "2           3  10.9 C  17.0 C                0.0 mm                2.6 h\n",
       "3           4   9.2 C  15.8 C                3.6 mm                0.7 h\n",
       "4           5   6.7 C  10.6 C                0.0 mm                5.5 h"
      ]
     },
     "execution_count": 4,
     "metadata": {},
     "output_type": "execute_result"
    }
   ],
   "source": [
    "# Checking what we are given with a sample\n",
    "path = \"./data\"\n",
    "data_test = pd.read_csv(path+\"/2017-11.csv\", sep=\";\", index_col=False)\n",
    "data_test.head()"
   ]
  },
  {
   "cell_type": "code",
   "execution_count": 5,
   "metadata": {},
   "outputs": [
    {
     "data": {
      "text/plain": [
       "Unnamed: 0               30\n",
       "T_MIN                    30\n",
       "T_MAX                    30\n",
       "HAUTEUR_PRECIPITATION    30\n",
       "DUREE_ENSOLEILLEMENT     30\n",
       "dtype: int64"
      ]
     },
     "execution_count": 5,
     "metadata": {},
     "output_type": "execute_result"
    }
   ],
   "source": [
    "data_test.count()"
   ]
  },
  {
   "cell_type": "code",
   "execution_count": 6,
   "metadata": {},
   "outputs": [],
   "source": [
    "# create a list of paths reading the names of files having the extension .csv in the \"path folder\"\n",
    "filenames = glob.glob(path + \"/*.csv\")"
   ]
  },
  {
   "cell_type": "code",
   "execution_count": 7,
   "metadata": {},
   "outputs": [
    {
     "data": {
      "text/plain": [
       "['2018-09',\n",
       " '2018-10',\n",
       " '2018-07',\n",
       " '2018-08',\n",
       " '2018-01',\n",
       " '2018-03',\n",
       " '2018-04',\n",
       " '2018-02',\n",
       " '2018-05',\n",
       " '2017-12',\n",
       " '2018-06',\n",
       " '2017-11']"
      ]
     },
     "execution_count": 7,
     "metadata": {},
     "output_type": "execute_result"
    }
   ],
   "source": [
    "# data_list_title keeps track of all imported files names\n",
    "data_list_title = []\n",
    "for x in filenames:\n",
    "    a = re.findall(r'([\\w\\.-]+)\\.csv',x)\n",
    "    data_list_title.append(a[0])\n",
    "data_list_title"
   ]
  },
  {
   "cell_type": "code",
   "execution_count": 8,
   "metadata": {},
   "outputs": [
    {
     "data": {
      "text/html": [
       "<div>\n",
       "<style scoped>\n",
       "    .dataframe tbody tr th:only-of-type {\n",
       "        vertical-align: middle;\n",
       "    }\n",
       "\n",
       "    .dataframe tbody tr th {\n",
       "        vertical-align: top;\n",
       "    }\n",
       "\n",
       "    .dataframe thead th {\n",
       "        text-align: right;\n",
       "    }\n",
       "</style>\n",
       "<table border=\"1\" class=\"dataframe\">\n",
       "  <thead>\n",
       "    <tr style=\"text-align: right;\">\n",
       "      <th></th>\n",
       "      <th>id</th>\n",
       "      <th>T_MIN</th>\n",
       "      <th>T_MAX</th>\n",
       "      <th>H_PRECIPITATION</th>\n",
       "      <th>DUREE_SOLEIL</th>\n",
       "      <th>DATE</th>\n",
       "    </tr>\n",
       "  </thead>\n",
       "  <tbody>\n",
       "    <tr>\n",
       "      <th>0</th>\n",
       "      <td>1</td>\n",
       "      <td>12.4 C</td>\n",
       "      <td>23.5 C</td>\n",
       "      <td>0.0 mm</td>\n",
       "      <td>12.5 h</td>\n",
       "      <td>1-09-2018</td>\n",
       "    </tr>\n",
       "    <tr>\n",
       "      <th>1</th>\n",
       "      <td>2</td>\n",
       "      <td>12.0 C</td>\n",
       "      <td>25.2 C</td>\n",
       "      <td>0.0 mm</td>\n",
       "      <td>12.6 h</td>\n",
       "      <td>2-09-2018</td>\n",
       "    </tr>\n",
       "    <tr>\n",
       "      <th>2</th>\n",
       "      <td>3</td>\n",
       "      <td>14.5 C</td>\n",
       "      <td>25.3 C</td>\n",
       "      <td>0.0 mm</td>\n",
       "      <td>5.6 h</td>\n",
       "      <td>3-09-2018</td>\n",
       "    </tr>\n",
       "    <tr>\n",
       "      <th>3</th>\n",
       "      <td>4</td>\n",
       "      <td>17.3 C</td>\n",
       "      <td>20.3 C</td>\n",
       "      <td>0.0 mm</td>\n",
       "      <td>0.1 h</td>\n",
       "      <td>4-09-2018</td>\n",
       "    </tr>\n",
       "    <tr>\n",
       "      <th>4</th>\n",
       "      <td>5</td>\n",
       "      <td>18.2 C</td>\n",
       "      <td>25.9 C</td>\n",
       "      <td>0.0 mm</td>\n",
       "      <td>3.4 h</td>\n",
       "      <td>5-09-2018</td>\n",
       "    </tr>\n",
       "  </tbody>\n",
       "</table>\n",
       "</div>"
      ],
      "text/plain": [
       "   id   T_MIN   T_MAX H_PRECIPITATION DUREE_SOLEIL       DATE\n",
       "0   1  12.4 C  23.5 C          0.0 mm       12.5 h  1-09-2018\n",
       "1   2  12.0 C  25.2 C          0.0 mm       12.6 h  2-09-2018\n",
       "2   3  14.5 C  25.3 C          0.0 mm        5.6 h  3-09-2018\n",
       "3   4  17.3 C  20.3 C          0.0 mm        0.1 h  4-09-2018\n",
       "4   5  18.2 C  25.9 C          0.0 mm        3.4 h  5-09-2018"
      ]
     },
     "execution_count": 8,
     "metadata": {},
     "output_type": "execute_result"
    }
   ],
   "source": [
    "# Import all files\n",
    "\n",
    "# Empty list to store our split dataframes\n",
    "data_list = []\n",
    "for p in filenames:\n",
    "    new = pd.read_csv(p, sep=\";\", index_col=None, header=0)        # load one file as a pandas df\n",
    "    a = re.findall(r'([\\w\\.-]+)\\.csv',p)                           # extract name from filename \n",
    "    yyyy = a[0].split('-')[0]                                      # extract year\n",
    "    mm = a[0].split('-')[1]                                        # extract month\n",
    "    d = new[\"Unnamed: 0\"]                                          # extract day\n",
    "    new[\"DATE\"] = d.astype(str) + \"-\" + str(mm) + \"-\" + str(yyyy)  # add column DATE composed by dd-mm-yyyy\n",
    "    new.rename(columns={'Unnamed: 0': 'id'}, inplace=True)         # rename empty column to id\n",
    "    data_list.append(new)                                          # append df to list\n",
    "\n",
    "# !!!! BE CAREFUL HERE !!!!!!!\n",
    "# ignore_index=True allows to ignore original index of each dataset: hence resetting it globally for the new df\n",
    "data = pd.concat(data_list, ignore_index=True)                     # concatenate all df together with a new index\n",
    "\n",
    "# inplace = True changes the name in the object.\n",
    "# inplace = False creates a new copy of the object with the change\n",
    "data.rename(columns={'HAUTEUR_PRECIPITATION': 'H_PRECIPITATION'}, inplace=True)  # renaming\n",
    "data.rename(columns={'DUREE_ENSOLEILLEMENT': 'DUREE_SOLEIL'}, inplace=True)      # renaming\n",
    "data.head(5) # print 5 first list"
   ]
  },
  {
   "cell_type": "code",
   "execution_count": 9,
   "metadata": {},
   "outputs": [
    {
     "data": {
      "text/plain": [
       "pandas.core.frame.DataFrame"
      ]
     },
     "execution_count": 9,
     "metadata": {},
     "output_type": "execute_result"
    }
   ],
   "source": [
    "type(data)   # checking type"
   ]
  },
  {
   "cell_type": "code",
   "execution_count": 10,
   "metadata": {},
   "outputs": [
    {
     "data": {
      "text/plain": [
       "Index(['id', 'T_MIN', 'T_MAX', 'H_PRECIPITATION', 'DUREE_SOLEIL', 'DATE'], dtype='object')"
      ]
     },
     "execution_count": 10,
     "metadata": {},
     "output_type": "execute_result"
    }
   ],
   "source": [
    "data.columns  # checking columns"
   ]
  },
  {
   "cell_type": "code",
   "execution_count": 11,
   "metadata": {},
   "outputs": [
    {
     "data": {
      "text/html": [
       "<div>\n",
       "<style scoped>\n",
       "    .dataframe tbody tr th:only-of-type {\n",
       "        vertical-align: middle;\n",
       "    }\n",
       "\n",
       "    .dataframe tbody tr th {\n",
       "        vertical-align: top;\n",
       "    }\n",
       "\n",
       "    .dataframe thead th {\n",
       "        text-align: right;\n",
       "    }\n",
       "</style>\n",
       "<table border=\"1\" class=\"dataframe\">\n",
       "  <thead>\n",
       "    <tr style=\"text-align: right;\">\n",
       "      <th></th>\n",
       "      <th>id</th>\n",
       "      <th>T_MIN</th>\n",
       "      <th>T_MAX</th>\n",
       "      <th>H_PRECIPITATION</th>\n",
       "      <th>DUREE_SOLEIL</th>\n",
       "      <th>DATE</th>\n",
       "    </tr>\n",
       "  </thead>\n",
       "  <tbody>\n",
       "    <tr>\n",
       "      <th>359</th>\n",
       "      <td>26</td>\n",
       "      <td>3.3 C</td>\n",
       "      <td>8.0 C</td>\n",
       "      <td>0.0 mm</td>\n",
       "      <td>4.1 h</td>\n",
       "      <td>26-11-2017</td>\n",
       "    </tr>\n",
       "    <tr>\n",
       "      <th>360</th>\n",
       "      <td>27</td>\n",
       "      <td>4.7 C</td>\n",
       "      <td>8.5 C</td>\n",
       "      <td>14.7 mm</td>\n",
       "      <td>0.2 h</td>\n",
       "      <td>27-11-2017</td>\n",
       "    </tr>\n",
       "    <tr>\n",
       "      <th>361</th>\n",
       "      <td>28</td>\n",
       "      <td>5.7 C</td>\n",
       "      <td>10.5 C</td>\n",
       "      <td>1.0 mm</td>\n",
       "      <td>3.6 h</td>\n",
       "      <td>28-11-2017</td>\n",
       "    </tr>\n",
       "    <tr>\n",
       "      <th>362</th>\n",
       "      <td>29</td>\n",
       "      <td>1.9 C</td>\n",
       "      <td>5.8 C</td>\n",
       "      <td>1.0 mm</td>\n",
       "      <td>2.6 h</td>\n",
       "      <td>29-11-2017</td>\n",
       "    </tr>\n",
       "    <tr>\n",
       "      <th>363</th>\n",
       "      <td>30</td>\n",
       "      <td>2.1 C</td>\n",
       "      <td>5.2 C</td>\n",
       "      <td>5.0 mm</td>\n",
       "      <td>3.0 h</td>\n",
       "      <td>30-11-2017</td>\n",
       "    </tr>\n",
       "  </tbody>\n",
       "</table>\n",
       "</div>"
      ],
      "text/plain": [
       "     id  T_MIN   T_MAX H_PRECIPITATION DUREE_SOLEIL        DATE\n",
       "359  26  3.3 C   8.0 C          0.0 mm        4.1 h  26-11-2017\n",
       "360  27  4.7 C   8.5 C         14.7 mm        0.2 h  27-11-2017\n",
       "361  28  5.7 C  10.5 C          1.0 mm        3.6 h  28-11-2017\n",
       "362  29  1.9 C   5.8 C          1.0 mm        2.6 h  29-11-2017\n",
       "363  30  2.1 C   5.2 C          5.0 mm        3.0 h  30-11-2017"
      ]
     },
     "execution_count": 11,
     "metadata": {},
     "output_type": "execute_result"
    }
   ],
   "source": [
    "data.tail()   # checking last rows in the df"
   ]
  },
  {
   "cell_type": "code",
   "execution_count": 12,
   "metadata": {},
   "outputs": [],
   "source": [
    "data_test_header = data.columns   # keeping columns in a variable if needed for later"
   ]
  },
  {
   "cell_type": "code",
   "execution_count": 13,
   "metadata": {},
   "outputs": [],
   "source": [
    "# Data cleaning\n",
    "data_clean = data.copy()\n",
    "data_clean[\"H_PRECIPITATION\"] = data[\"H_PRECIPITATION\"].str.replace(' mm','').astype(float)    # remove mm\n",
    "data_clean[\"T_MAX\"] = data[\"T_MAX\"].str.replace(' C','').astype(float)                         # remove C\n",
    "data_clean[\"T_MIN\"] = data[\"T_MIN\"].str.replace(' C','').astype(float)                         # remove C\n",
    "data_clean[\"DUREE_SOLEIL\"] = data[\"DUREE_SOLEIL\"].str.replace('h','').astype(float)            # remove h\n",
    "data_clean[\"DATE\"] = pd.to_datetime(data[\"DATE\"],format='%d-%m-%Y')                            # format date"
   ]
  },
  {
   "cell_type": "code",
   "execution_count": 14,
   "metadata": {},
   "outputs": [
    {
     "data": {
      "text/html": [
       "<div>\n",
       "<style scoped>\n",
       "    .dataframe tbody tr th:only-of-type {\n",
       "        vertical-align: middle;\n",
       "    }\n",
       "\n",
       "    .dataframe tbody tr th {\n",
       "        vertical-align: top;\n",
       "    }\n",
       "\n",
       "    .dataframe thead th {\n",
       "        text-align: right;\n",
       "    }\n",
       "</style>\n",
       "<table border=\"1\" class=\"dataframe\">\n",
       "  <thead>\n",
       "    <tr style=\"text-align: right;\">\n",
       "      <th></th>\n",
       "      <th>id</th>\n",
       "      <th>T_MIN</th>\n",
       "      <th>T_MAX</th>\n",
       "      <th>H_PRECIPITATION</th>\n",
       "      <th>DUREE_SOLEIL</th>\n",
       "      <th>DATE</th>\n",
       "    </tr>\n",
       "  </thead>\n",
       "  <tbody>\n",
       "    <tr>\n",
       "      <th>354</th>\n",
       "      <td>21</td>\n",
       "      <td>7.9</td>\n",
       "      <td>10.8</td>\n",
       "      <td>0.0</td>\n",
       "      <td>0.0</td>\n",
       "      <td>2017-11-21</td>\n",
       "    </tr>\n",
       "    <tr>\n",
       "      <th>355</th>\n",
       "      <td>22</td>\n",
       "      <td>7.5</td>\n",
       "      <td>14.0</td>\n",
       "      <td>0.0</td>\n",
       "      <td>7.3</td>\n",
       "      <td>2017-11-22</td>\n",
       "    </tr>\n",
       "    <tr>\n",
       "      <th>356</th>\n",
       "      <td>23</td>\n",
       "      <td>10.7</td>\n",
       "      <td>16.8</td>\n",
       "      <td>6.7</td>\n",
       "      <td>1.7</td>\n",
       "      <td>2017-11-23</td>\n",
       "    </tr>\n",
       "    <tr>\n",
       "      <th>357</th>\n",
       "      <td>24</td>\n",
       "      <td>9.7</td>\n",
       "      <td>12.1</td>\n",
       "      <td>0.4</td>\n",
       "      <td>0.4</td>\n",
       "      <td>2017-11-24</td>\n",
       "    </tr>\n",
       "    <tr>\n",
       "      <th>358</th>\n",
       "      <td>25</td>\n",
       "      <td>4.6</td>\n",
       "      <td>7.0</td>\n",
       "      <td>0.8</td>\n",
       "      <td>1.8</td>\n",
       "      <td>2017-11-25</td>\n",
       "    </tr>\n",
       "    <tr>\n",
       "      <th>359</th>\n",
       "      <td>26</td>\n",
       "      <td>3.3</td>\n",
       "      <td>8.0</td>\n",
       "      <td>0.0</td>\n",
       "      <td>4.1</td>\n",
       "      <td>2017-11-26</td>\n",
       "    </tr>\n",
       "    <tr>\n",
       "      <th>360</th>\n",
       "      <td>27</td>\n",
       "      <td>4.7</td>\n",
       "      <td>8.5</td>\n",
       "      <td>14.7</td>\n",
       "      <td>0.2</td>\n",
       "      <td>2017-11-27</td>\n",
       "    </tr>\n",
       "    <tr>\n",
       "      <th>361</th>\n",
       "      <td>28</td>\n",
       "      <td>5.7</td>\n",
       "      <td>10.5</td>\n",
       "      <td>1.0</td>\n",
       "      <td>3.6</td>\n",
       "      <td>2017-11-28</td>\n",
       "    </tr>\n",
       "    <tr>\n",
       "      <th>362</th>\n",
       "      <td>29</td>\n",
       "      <td>1.9</td>\n",
       "      <td>5.8</td>\n",
       "      <td>1.0</td>\n",
       "      <td>2.6</td>\n",
       "      <td>2017-11-29</td>\n",
       "    </tr>\n",
       "    <tr>\n",
       "      <th>363</th>\n",
       "      <td>30</td>\n",
       "      <td>2.1</td>\n",
       "      <td>5.2</td>\n",
       "      <td>5.0</td>\n",
       "      <td>3.0</td>\n",
       "      <td>2017-11-30</td>\n",
       "    </tr>\n",
       "  </tbody>\n",
       "</table>\n",
       "</div>"
      ],
      "text/plain": [
       "     id  T_MIN  T_MAX  H_PRECIPITATION  DUREE_SOLEIL       DATE\n",
       "354  21    7.9   10.8              0.0           0.0 2017-11-21\n",
       "355  22    7.5   14.0              0.0           7.3 2017-11-22\n",
       "356  23   10.7   16.8              6.7           1.7 2017-11-23\n",
       "357  24    9.7   12.1              0.4           0.4 2017-11-24\n",
       "358  25    4.6    7.0              0.8           1.8 2017-11-25\n",
       "359  26    3.3    8.0              0.0           4.1 2017-11-26\n",
       "360  27    4.7    8.5             14.7           0.2 2017-11-27\n",
       "361  28    5.7   10.5              1.0           3.6 2017-11-28\n",
       "362  29    1.9    5.8              1.0           2.6 2017-11-29\n",
       "363  30    2.1    5.2              5.0           3.0 2017-11-30"
      ]
     },
     "execution_count": 14,
     "metadata": {},
     "output_type": "execute_result"
    }
   ],
   "source": [
    "data_clean.tail(10)  # check our changes"
   ]
  },
  {
   "cell_type": "code",
   "execution_count": 16,
   "metadata": {},
   "outputs": [
    {
     "data": {
      "text/html": [
       "<div>\n",
       "<style scoped>\n",
       "    .dataframe tbody tr th:only-of-type {\n",
       "        vertical-align: middle;\n",
       "    }\n",
       "\n",
       "    .dataframe tbody tr th {\n",
       "        vertical-align: top;\n",
       "    }\n",
       "\n",
       "    .dataframe thead th {\n",
       "        text-align: right;\n",
       "    }\n",
       "</style>\n",
       "<table border=\"1\" class=\"dataframe\">\n",
       "  <thead>\n",
       "    <tr style=\"text-align: right;\">\n",
       "      <th></th>\n",
       "      <th>id</th>\n",
       "      <th>T_MIN</th>\n",
       "      <th>T_MAX</th>\n",
       "      <th>H_PRECIPITATION</th>\n",
       "      <th>DUREE_SOLEIL</th>\n",
       "    </tr>\n",
       "  </thead>\n",
       "  <tbody>\n",
       "    <tr>\n",
       "      <th>count</th>\n",
       "      <td>364.000000</td>\n",
       "      <td>364.000000</td>\n",
       "      <td>364.000000</td>\n",
       "      <td>364.000000</td>\n",
       "      <td>364.000000</td>\n",
       "    </tr>\n",
       "    <tr>\n",
       "      <th>mean</th>\n",
       "      <td>15.678571</td>\n",
       "      <td>9.911538</td>\n",
       "      <td>17.703571</td>\n",
       "      <td>1.942857</td>\n",
       "      <td>5.384890</td>\n",
       "    </tr>\n",
       "    <tr>\n",
       "      <th>std</th>\n",
       "      <td>8.783812</td>\n",
       "      <td>6.261807</td>\n",
       "      <td>8.701101</td>\n",
       "      <td>5.613073</td>\n",
       "      <td>4.528121</td>\n",
       "    </tr>\n",
       "    <tr>\n",
       "      <th>min</th>\n",
       "      <td>1.000000</td>\n",
       "      <td>-7.000000</td>\n",
       "      <td>-1.500000</td>\n",
       "      <td>0.000000</td>\n",
       "      <td>0.000000</td>\n",
       "    </tr>\n",
       "    <tr>\n",
       "      <th>25%</th>\n",
       "      <td>8.000000</td>\n",
       "      <td>5.000000</td>\n",
       "      <td>10.250000</td>\n",
       "      <td>0.000000</td>\n",
       "      <td>0.900000</td>\n",
       "    </tr>\n",
       "    <tr>\n",
       "      <th>50%</th>\n",
       "      <td>16.000000</td>\n",
       "      <td>9.600000</td>\n",
       "      <td>17.750000</td>\n",
       "      <td>0.000000</td>\n",
       "      <td>4.900000</td>\n",
       "    </tr>\n",
       "    <tr>\n",
       "      <th>75%</th>\n",
       "      <td>23.000000</td>\n",
       "      <td>15.300000</td>\n",
       "      <td>25.200000</td>\n",
       "      <td>1.400000</td>\n",
       "      <td>9.100000</td>\n",
       "    </tr>\n",
       "    <tr>\n",
       "      <th>max</th>\n",
       "      <td>31.000000</td>\n",
       "      <td>22.400000</td>\n",
       "      <td>37.400000</td>\n",
       "      <td>78.200000</td>\n",
       "      <td>15.000000</td>\n",
       "    </tr>\n",
       "  </tbody>\n",
       "</table>\n",
       "</div>"
      ],
      "text/plain": [
       "               id       T_MIN       T_MAX  H_PRECIPITATION  DUREE_SOLEIL\n",
       "count  364.000000  364.000000  364.000000       364.000000    364.000000\n",
       "mean    15.678571    9.911538   17.703571         1.942857      5.384890\n",
       "std      8.783812    6.261807    8.701101         5.613073      4.528121\n",
       "min      1.000000   -7.000000   -1.500000         0.000000      0.000000\n",
       "25%      8.000000    5.000000   10.250000         0.000000      0.900000\n",
       "50%     16.000000    9.600000   17.750000         0.000000      4.900000\n",
       "75%     23.000000   15.300000   25.200000         1.400000      9.100000\n",
       "max     31.000000   22.400000   37.400000        78.200000     15.000000"
      ]
     },
     "execution_count": 16,
     "metadata": {},
     "output_type": "execute_result"
    }
   ],
   "source": [
    "# Just getting basic infos on our data\n",
    "data_clean.describe()"
   ]
  },
  {
   "cell_type": "code",
   "execution_count": 17,
   "metadata": {},
   "outputs": [],
   "source": [
    "# save cleaned dataframe to csv\n",
    "data_clean.sort_values(by=['DATE']).reset_index(drop=True).to_csv(path+\"/cleaned/paris_cleaned.csv\", sep=';', encoding='utf-8')"
   ]
  },
  {
   "cell_type": "code",
   "execution_count": 18,
   "metadata": {},
   "outputs": [],
   "source": [
    "data_clean_isna = data_clean.isna()          # create a temporary df with booleans if NaN"
   ]
  },
  {
   "cell_type": "code",
   "execution_count": 19,
   "metadata": {},
   "outputs": [
    {
     "data": {
      "text/html": [
       "<div>\n",
       "<style scoped>\n",
       "    .dataframe tbody tr th:only-of-type {\n",
       "        vertical-align: middle;\n",
       "    }\n",
       "\n",
       "    .dataframe tbody tr th {\n",
       "        vertical-align: top;\n",
       "    }\n",
       "\n",
       "    .dataframe thead th {\n",
       "        text-align: right;\n",
       "    }\n",
       "</style>\n",
       "<table border=\"1\" class=\"dataframe\">\n",
       "  <thead>\n",
       "    <tr style=\"text-align: right;\">\n",
       "      <th></th>\n",
       "      <th>T_MIN</th>\n",
       "      <th>T_MAX</th>\n",
       "      <th>H_PRECIPITATION</th>\n",
       "      <th>DUREE_SOLEIL</th>\n",
       "    </tr>\n",
       "  </thead>\n",
       "  <tbody>\n",
       "    <tr>\n",
       "      <th>sum</th>\n",
       "      <td>0</td>\n",
       "      <td>0</td>\n",
       "      <td>0</td>\n",
       "      <td>0</td>\n",
       "    </tr>\n",
       "  </tbody>\n",
       "</table>\n",
       "</div>"
      ],
      "text/plain": [
       "     T_MIN  T_MAX  H_PRECIPITATION  DUREE_SOLEIL\n",
       "sum      0      0                0             0"
      ]
     },
     "execution_count": 19,
     "metadata": {},
     "output_type": "execute_result"
    }
   ],
   "source": [
    "# create a sum of booleans\n",
    "data_clean_isna.agg({\"T_MIN\": [\"sum\"],\"T_MAX\": [\"sum\"], \"H_PRECIPITATION\": [\"sum\"], \"DUREE_SOLEIL\": [\"sum\"]})"
   ]
  },
  {
   "cell_type": "code",
   "execution_count": 20,
   "metadata": {},
   "outputs": [
    {
     "data": {
      "text/plain": [
       "array([None, 20, 13, 33, -9], dtype=object)"
      ]
     },
     "execution_count": 20,
     "metadata": {},
     "output_type": "execute_result"
    }
   ],
   "source": [
    "# create a difference transform of the dataset to remove tend  # That is the derivative\n",
    "def difference(dataset):\n",
    "\tdiff = list()\n",
    "\tfor i in range(1, len(dataset)):\n",
    "\t\tvalue = dataset[i] - dataset[i - 1]\n",
    "\t\tdiff.append(value)\n",
    "\treturn np.append(None, np.array(diff))\n",
    "\n",
    "difference([23,43,56,89,80])  # testing to understand how it works"
   ]
  },
  {
   "cell_type": "code",
   "execution_count": 21,
   "metadata": {},
   "outputs": [],
   "source": [
    "# Sort dataframe by date\n",
    "# Force the index to restart from 0 after the sort, ad drop old index.\n",
    "data_clean_sorted = data_clean.sort_values(by=['DATE']).reset_index(drop=True)"
   ]
  },
  {
   "cell_type": "code",
   "execution_count": 22,
   "metadata": {},
   "outputs": [
    {
     "data": {
      "text/html": [
       "<div>\n",
       "<style scoped>\n",
       "    .dataframe tbody tr th:only-of-type {\n",
       "        vertical-align: middle;\n",
       "    }\n",
       "\n",
       "    .dataframe tbody tr th {\n",
       "        vertical-align: top;\n",
       "    }\n",
       "\n",
       "    .dataframe thead th {\n",
       "        text-align: right;\n",
       "    }\n",
       "</style>\n",
       "<table border=\"1\" class=\"dataframe\">\n",
       "  <thead>\n",
       "    <tr style=\"text-align: right;\">\n",
       "      <th></th>\n",
       "      <th>id</th>\n",
       "      <th>T_MIN</th>\n",
       "      <th>T_MAX</th>\n",
       "      <th>H_PRECIPITATION</th>\n",
       "      <th>DUREE_SOLEIL</th>\n",
       "      <th>DATE</th>\n",
       "      <th>T_MIN_CHANGE</th>\n",
       "    </tr>\n",
       "  </thead>\n",
       "  <tbody>\n",
       "    <tr>\n",
       "      <th>0</th>\n",
       "      <td>1</td>\n",
       "      <td>5.0</td>\n",
       "      <td>13.7</td>\n",
       "      <td>0.0</td>\n",
       "      <td>4.0</td>\n",
       "      <td>2017-11-01</td>\n",
       "      <td>None</td>\n",
       "    </tr>\n",
       "    <tr>\n",
       "      <th>1</th>\n",
       "      <td>2</td>\n",
       "      <td>7.2</td>\n",
       "      <td>14.2</td>\n",
       "      <td>0.0</td>\n",
       "      <td>0.8</td>\n",
       "      <td>2017-11-02</td>\n",
       "      <td>2.2</td>\n",
       "    </tr>\n",
       "    <tr>\n",
       "      <th>2</th>\n",
       "      <td>3</td>\n",
       "      <td>10.9</td>\n",
       "      <td>17.0</td>\n",
       "      <td>0.0</td>\n",
       "      <td>2.6</td>\n",
       "      <td>2017-11-03</td>\n",
       "      <td>3.7</td>\n",
       "    </tr>\n",
       "    <tr>\n",
       "      <th>3</th>\n",
       "      <td>4</td>\n",
       "      <td>9.2</td>\n",
       "      <td>15.8</td>\n",
       "      <td>3.6</td>\n",
       "      <td>0.7</td>\n",
       "      <td>2017-11-04</td>\n",
       "      <td>-1.7</td>\n",
       "    </tr>\n",
       "    <tr>\n",
       "      <th>4</th>\n",
       "      <td>5</td>\n",
       "      <td>6.7</td>\n",
       "      <td>10.6</td>\n",
       "      <td>0.0</td>\n",
       "      <td>5.5</td>\n",
       "      <td>2017-11-05</td>\n",
       "      <td>-2.5</td>\n",
       "    </tr>\n",
       "  </tbody>\n",
       "</table>\n",
       "</div>"
      ],
      "text/plain": [
       "   id  T_MIN  T_MAX  H_PRECIPITATION  DUREE_SOLEIL       DATE T_MIN_CHANGE\n",
       "0   1    5.0   13.7              0.0           4.0 2017-11-01         None\n",
       "1   2    7.2   14.2              0.0           0.8 2017-11-02          2.2\n",
       "2   3   10.9   17.0              0.0           2.6 2017-11-03          3.7\n",
       "3   4    9.2   15.8              3.6           0.7 2017-11-04         -1.7\n",
       "4   5    6.7   10.6              0.0           5.5 2017-11-05         -2.5"
      ]
     },
     "execution_count": 22,
     "metadata": {},
     "output_type": "execute_result"
    }
   ],
   "source": [
    "# Add the new column to our dataframe:\n",
    "data_clean_sorted[\"T_MIN_CHANGE\"] = difference(data_clean_sorted[\"T_MIN\"])  # creating new column with differences\n",
    "data_clean_sorted.head(5)                                                   # checking that our df is sorted ad our new column exists"
   ]
  },
  {
   "cell_type": "code",
   "execution_count": 23,
   "metadata": {},
   "outputs": [
    {
     "data": {
      "text/plain": [
       "[<matplotlib.lines.Line2D at 0x7f736912bd68>]"
      ]
     },
     "execution_count": 23,
     "metadata": {},
     "output_type": "execute_result"
    },
    {
     "data": {
      "image/png": "[encoded data removed]",
      "text/plain": [
       "<Figure size 432x288 with 1 Axes>"
      ]
     },
     "metadata": {
      "needs_background": "light"
     },
     "output_type": "display_data"
    }
   ],
   "source": [
    "# plot our data as a time-series line chart (only T_MIN)\n",
    "plt.plot(data_clean_sorted[\"DATE\"], data_clean_sorted[\"T_MIN\"])"
   ]
  },
  {
   "cell_type": "code",
   "execution_count": 24,
   "metadata": {},
   "outputs": [
    {
     "name": "stderr",
     "output_type": "stream",
     "text": [
      "/opt/conda/lib/python3.6/site-packages/ipykernel_launcher.py:2: FutureWarning: 'pandas.tools.plotting.lag_plot' is deprecated, import 'pandas.plotting.lag_plot' instead.\n",
      "  \n"
     ]
    },
    {
     "data": {
      "text/plain": [
       "<matplotlib.axes._subplots.AxesSubplot at 0x7f7365847ef0>"
      ]
     },
     "execution_count": 24,
     "metadata": {},
     "output_type": "execute_result"
    },
    {
     "data": {
      "image/png": "[encoded data removed]",
      "text/plain": [
       "<Figure size 432x288 with 1 Axes>"
      ]
     },
     "metadata": {
      "needs_background": "light"
     },
     "output_type": "display_data"
    }
   ],
   "source": [
    "# Visualising correlation between T_MIN and previous day's T_MIN\n",
    "lag_plot(data_clean_sorted[\"T_MIN\"])"
   ]
  },
  {
   "cell_type": "markdown",
   "metadata": {},
   "source": [
    "The linear nature of this graph shows a correlation between minimal temperatures at day t and the minimal temperature of previous day t-1."
   ]
  },
  {
   "cell_type": "code",
   "execution_count": 34,
   "metadata": {},
   "outputs": [
    {
     "data": {
      "text/html": [
       "<div>\n",
       "<style scoped>\n",
       "    .dataframe tbody tr th:only-of-type {\n",
       "        vertical-align: middle;\n",
       "    }\n",
       "\n",
       "    .dataframe tbody tr th {\n",
       "        vertical-align: top;\n",
       "    }\n",
       "\n",
       "    .dataframe thead th {\n",
       "        text-align: right;\n",
       "    }\n",
       "</style>\n",
       "<table border=\"1\" class=\"dataframe\">\n",
       "  <thead>\n",
       "    <tr style=\"text-align: right;\">\n",
       "      <th></th>\n",
       "      <th>index</th>\n",
       "      <th>id</th>\n",
       "      <th>T_MIN</th>\n",
       "      <th>T_MAX</th>\n",
       "      <th>H_PRECIPITATION</th>\n",
       "      <th>DUREE_SOLEIL</th>\n",
       "      <th>DATE</th>\n",
       "      <th>T_MIN_CHANGE</th>\n",
       "    </tr>\n",
       "  </thead>\n",
       "  <tbody>\n",
       "    <tr>\n",
       "      <th>356</th>\n",
       "      <td>356</td>\n",
       "      <td>23</td>\n",
       "      <td>6.7</td>\n",
       "      <td>16.8</td>\n",
       "      <td>0.0</td>\n",
       "      <td>8.9</td>\n",
       "      <td>2018-10-23</td>\n",
       "      <td>-4.6</td>\n",
       "    </tr>\n",
       "    <tr>\n",
       "      <th>357</th>\n",
       "      <td>357</td>\n",
       "      <td>24</td>\n",
       "      <td>11.8</td>\n",
       "      <td>16.1</td>\n",
       "      <td>0.0</td>\n",
       "      <td>0.3</td>\n",
       "      <td>2018-10-24</td>\n",
       "      <td>5.1</td>\n",
       "    </tr>\n",
       "    <tr>\n",
       "      <th>358</th>\n",
       "      <td>358</td>\n",
       "      <td>25</td>\n",
       "      <td>12.3</td>\n",
       "      <td>15.8</td>\n",
       "      <td>0.0</td>\n",
       "      <td>4.9</td>\n",
       "      <td>2018-10-25</td>\n",
       "      <td>0.5</td>\n",
       "    </tr>\n",
       "    <tr>\n",
       "      <th>359</th>\n",
       "      <td>359</td>\n",
       "      <td>26</td>\n",
       "      <td>9.4</td>\n",
       "      <td>14.3</td>\n",
       "      <td>0.6</td>\n",
       "      <td>1.0</td>\n",
       "      <td>2018-10-26</td>\n",
       "      <td>-2.9</td>\n",
       "    </tr>\n",
       "    <tr>\n",
       "      <th>360</th>\n",
       "      <td>360</td>\n",
       "      <td>27</td>\n",
       "      <td>5.1</td>\n",
       "      <td>9.8</td>\n",
       "      <td>0.0</td>\n",
       "      <td>4.0</td>\n",
       "      <td>2018-10-27</td>\n",
       "      <td>-4.3</td>\n",
       "    </tr>\n",
       "    <tr>\n",
       "      <th>361</th>\n",
       "      <td>361</td>\n",
       "      <td>28</td>\n",
       "      <td>4.7</td>\n",
       "      <td>8.1</td>\n",
       "      <td>0.0</td>\n",
       "      <td>0.4</td>\n",
       "      <td>2018-10-28</td>\n",
       "      <td>-0.4</td>\n",
       "    </tr>\n",
       "    <tr>\n",
       "      <th>362</th>\n",
       "      <td>362</td>\n",
       "      <td>29</td>\n",
       "      <td>3.6</td>\n",
       "      <td>5.8</td>\n",
       "      <td>12.1</td>\n",
       "      <td>0.0</td>\n",
       "      <td>2018-10-29</td>\n",
       "      <td>-1.1</td>\n",
       "    </tr>\n",
       "    <tr>\n",
       "      <th>363</th>\n",
       "      <td>363</td>\n",
       "      <td>30</td>\n",
       "      <td>3.4</td>\n",
       "      <td>11.3</td>\n",
       "      <td>2.4</td>\n",
       "      <td>1.5</td>\n",
       "      <td>2018-10-30</td>\n",
       "      <td>-0.2</td>\n",
       "    </tr>\n",
       "  </tbody>\n",
       "</table>\n",
       "</div>"
      ],
      "text/plain": [
       "     index  id  T_MIN  T_MAX  H_PRECIPITATION  DUREE_SOLEIL       DATE  \\\n",
       "356    356  23    6.7   16.8              0.0           8.9 2018-10-23   \n",
       "357    357  24   11.8   16.1              0.0           0.3 2018-10-24   \n",
       "358    358  25   12.3   15.8              0.0           4.9 2018-10-25   \n",
       "359    359  26    9.4   14.3              0.6           1.0 2018-10-26   \n",
       "360    360  27    5.1    9.8              0.0           4.0 2018-10-27   \n",
       "361    361  28    4.7    8.1              0.0           0.4 2018-10-28   \n",
       "362    362  29    3.6    5.8             12.1           0.0 2018-10-29   \n",
       "363    363  30    3.4   11.3              2.4           1.5 2018-10-30   \n",
       "\n",
       "    T_MIN_CHANGE  \n",
       "356         -4.6  \n",
       "357          5.1  \n",
       "358          0.5  \n",
       "359         -2.9  \n",
       "360         -4.3  \n",
       "361         -0.4  \n",
       "362         -1.1  \n",
       "363         -0.2  "
      ]
     },
     "execution_count": 34,
     "metadata": {},
     "output_type": "execute_result"
    }
   ],
   "source": [
    "data_clean_sorted = data_clean_sorted.reset_index()\n",
    "\n",
    "data_clean_sorted.tail(8)"
   ]
  },
  {
   "cell_type": "code",
   "execution_count": 35,
   "metadata": {},
   "outputs": [
    {
     "name": "stdout",
     "output_type": "stream",
     "text": [
      "Test MSE: 7.796\n"
     ]
    },
    {
     "data": {
      "text/plain": [
       "[<matplotlib.lines.Line2D at 0x7f73656768d0>]"
      ]
     },
     "execution_count": 35,
     "metadata": {},
     "output_type": "execute_result"
    },
    {
     "data": {
      "image/png": "[encoded data removed]",
      "text/plain": [
       "<Figure size 432x288 with 1 Axes>"
      ]
     },
     "metadata": {
      "needs_background": "light"
     },
     "output_type": "display_data"
    }
   ],
   "source": [
    "# Applying persistence model\n",
    "# The least we can do to predict tomorrow's T_MIN is to take yesterday's T_MIN... :)\n",
    "# This is called a persistence model\n",
    "# This prediction will be the base to futher predictions: we should try to do better than this persistence model\n",
    "\n",
    "dataframe = concat([data_clean_sorted_nonan[\"T_MIN\"].shift(1), data_clean_sorted_nonan[\"T_MIN\"]], axis=1)\n",
    "dataframe.columns = ['t-1', 't+1']\n",
    "\n",
    "X = dataframe.values\n",
    "\n",
    "train, test = X[1:len(X)-7], X[len(X)-7:]\n",
    "train_X, train_y = train[:,0], train[:,1]\n",
    "test_X, test_y = test[:,0], test[:,1]\n",
    "\n",
    "# persistence model\n",
    "def model_persistence(x):\n",
    "    return x\n",
    "\n",
    "# walk-forward validation\n",
    "predictions = list()\n",
    "for x in test_X:\n",
    "    yhat = model_persistence(x)\n",
    "    predictions.append(yhat)\n",
    "\n",
    "test_score = mean_squared_error(test_y, predictions)\n",
    "print('Test MSE: %.3f' % test_score)\n",
    "# plot predictions vs expected\n",
    "plt.plot(test_y)\n",
    "plt.plot(predictions, color='red')"
   ]
  },
  {
   "cell_type": "code",
   "execution_count": 36,
   "metadata": {},
   "outputs": [
    {
     "name": "stdout",
     "output_type": "stream",
     "text": [
      "Lag: 3\n",
      "Coefficients: const       0.577709\n",
      "L1.T_MIN    0.923276\n",
      "L2.T_MIN   -0.072496\n",
      "L3.T_MIN    0.092013\n",
      "dtype: float64\n",
      "predicted=11.316882, expected=6.700000\n",
      "predicted=10.869609, expected=11.800000\n",
      "predicted=10.832684, expected=12.300000\n",
      "predicted=10.832572, expected=9.400000\n",
      "predicted=10.793989, expected=5.100000\n",
      "predicted=10.754978, expected=4.700000\n",
      "predicted=10.721746, expected=3.600000\n",
      "predicted=10.690342, expected=3.400000\n",
      "Test MSE: 24.917\n"
     ]
    },
    {
     "data": {
      "text/plain": [
       "[<matplotlib.lines.Line2D at 0x7f736587acc0>]"
      ]
     },
     "execution_count": 36,
     "metadata": {},
     "output_type": "execute_result"
    },
    {
     "data": {
      "image/png": "[encoded data removed]",
      "text/plain": [
       "<Figure size 432x288 with 1 Axes>"
      ]
     },
     "metadata": {
      "needs_background": "light"
     },
     "output_type": "display_data"
    }
   ],
   "source": [
    "# Applying an autoregression model\n",
    "\n",
    "# Splitting dataset in train vs test: keeping only last 7 days to predict \n",
    "train, test = data_clean_sorted[1:len(data_clean_sorted_nonan)-7], data_clean_sorted[len(data_clean_sorted_nonan)-7:]\n",
    "\n",
    "window_size = 3\n",
    "\n",
    "input_col = \"T_MIN\"\n",
    "\n",
    "model = AR(train[input_col].astype(float))\n",
    "model_fit = model.fit(window_size, disp=False)\n",
    "\n",
    "print('Lag: %s' % model_fit.k_ar)\n",
    "print('Coefficients: %s' % model_fit.params)\n",
    "\n",
    "# Trying to predict\n",
    "predictions = model_fit.predict(start=len(train[input_col]), end=len(train[input_col])+len(test[input_col])-1, dynamic=False)\n",
    "\n",
    "for i in range(len(predictions)):\n",
    "    print('predicted=%f, expected=%f' % (predictions[i:i+1], test[input_col][i:i+1]))\n",
    "\n",
    "# Calculate coefficient\n",
    "error = mean_squared_error(test[input_col], predictions)\n",
    "print('Test MSE: %.3f' % error)\n",
    "\n",
    "plt.plot(test[input_col])\n",
    "plt.plot(predictions, color='red')\n"
   ]
  }
 ],
 "metadata": {
  "kernelspec": {
   "display_name": "Python 3",
   "language": "python",
   "name": "python3"
  },
  "language_info": {
   "codemirror_mode": {
    "name": "ipython",
    "version": 3
   },
   "file_extension": ".py",
   "mimetype": "text/x-python",
   "name": "python",
   "nbconvert_exporter": "python",
   "pygments_lexer": "ipython3",
   "version": "3.6.6"
  }
 },
 "nbformat": 4,
 "nbformat_minor": 2
}
